{
  "nbformat": 4,
  "nbformat_minor": 0,
  "metadata": {
    "colab": {
      "provenance": []
    },
    "kernelspec": {
      "name": "python3",
      "display_name": "Python 3"
    },
    "language_info": {
      "name": "python"
    }
  },
  "cells": [
    {
      "cell_type": "code",
      "execution_count": 1,
      "metadata": {
        "id": "p1MuGh5doahY"
      },
      "outputs": [],
      "source": [
        "import numpy as np\n",
        "import tensorflow as tf\n",
        "from tensorflow.keras.preprocessing.text import Tokenizer\n",
        "from tensorflow.keras.preprocessing.sequence import pad_sequences\n",
        "from tensorflow.keras.models import Sequential\n",
        "from tensorflow.keras.layers import Embedding, LSTM, Dense\n",
        "\n",
        "# Read the text file\n",
        "with open('sherlock-holm.es_stories_plain-text_advs.txt', 'r', encoding='utf-8') as file:\n",
        "    text = file.read()"
      ]
    },
    {
      "cell_type": "code",
      "source": [
        "tokenizer = Tokenizer()\n",
        "tokenizer.fit_on_texts([text])\n",
        "total_words = len(tokenizer.word_index) + 1"
      ],
      "metadata": {
        "id": "lYYnLlKuoj20"
      },
      "execution_count": 2,
      "outputs": []
    },
    {
      "cell_type": "code",
      "source": [
        "input_sequences = []\n",
        "for line in text.split('\\n'):\n",
        "    token_list = tokenizer.texts_to_sequences([line])[0]\n",
        "    for i in range(1, len(token_list)):\n",
        "        n_gram_sequence = token_list[:i+1]\n",
        "        input_sequences.append(n_gram_sequence)"
      ],
      "metadata": {
        "id": "tWFLXef8omi1"
      },
      "execution_count": 3,
      "outputs": []
    },
    {
      "cell_type": "code",
      "source": [
        "max_sequence_len = max([len(seq) for seq in input_sequences])\n",
        "input_sequences = np.array(pad_sequences(input_sequences, maxlen=max_sequence_len, padding='pre'))"
      ],
      "metadata": {
        "id": "wA4YkEHYoo4T"
      },
      "execution_count": 4,
      "outputs": []
    },
    {
      "cell_type": "code",
      "source": [
        "X = input_sequences[:, :-1]\n",
        "y = input_sequences[:, -1]"
      ],
      "metadata": {
        "id": "5qtidOhgor9e"
      },
      "execution_count": 5,
      "outputs": []
    },
    {
      "cell_type": "code",
      "source": [
        "y = np.array(tf.keras.utils.to_categorical(y, num_classes=total_words))"
      ],
      "metadata": {
        "id": "N3-Fae6tovFb"
      },
      "execution_count": 6,
      "outputs": []
    },
    {
      "cell_type": "code",
      "source": [
        "model = Sequential()\n",
        "model.add(Embedding(total_words, 100, input_length=max_sequence_len-1))\n",
        "model.add(LSTM(150))\n",
        "model.add(Dense(total_words, activation='softmax'))\n",
        "print(model.summary())"
      ],
      "metadata": {
        "colab": {
          "base_uri": "https://localhost:8080/"
        },
        "id": "T4cdAjUvoxiJ",
        "outputId": "0ac4a41c-df1a-44ba-bc2d-5d4b102bf2c6"
      },
      "execution_count": null,
      "outputs": [
        {
          "output_type": "stream",
          "name": "stdout",
          "text": [
            "Model: \"sequential\"\n",
            "_________________________________________________________________\n",
            " Layer (type)                Output Shape              Param #   \n",
            "=================================================================\n",
            " embedding (Embedding)       (None, 17, 100)           820000    \n",
            "                                                                 \n",
            " lstm (LSTM)                 (None, 150)               150600    \n",
            "                                                                 \n",
            " dense (Dense)               (None, 8200)              1238200   \n",
            "                                                                 \n",
            "=================================================================\n",
            "Total params: 2,208,800\n",
            "Trainable params: 2,208,800\n",
            "Non-trainable params: 0\n",
            "_________________________________________________________________\n",
            "None\n"
          ]
        }
      ]
    },
    {
      "cell_type": "code",
      "source": [
        "model.compile(loss='categorical_crossentropy', optimizer='adam', metrics=['accuracy'])\n",
        "model.fit(X, y, epochs=100, verbose=1)"
      ],
      "metadata": {
        "colab": {
          "base_uri": "https://localhost:8080/"
        },
        "id": "r4SMIq9Do1Ce",
        "outputId": "eafb221b-a115-48b8-8100-5dbf76c1641f"
      },
      "execution_count": null,
      "outputs": [
        {
          "output_type": "stream",
          "name": "stdout",
          "text": [
            "Epoch 1/100\n",
            "3010/3010 [==============================] - 195s 64ms/step - loss: 6.2367 - accuracy: 0.0770\n",
            "Epoch 2/100\n",
            "3010/3010 [==============================] - 193s 64ms/step - loss: 5.5172 - accuracy: 0.1239\n",
            "Epoch 3/100\n",
            "3010/3010 [==============================] - 188s 62ms/step - loss: 5.1280 - accuracy: 0.1466\n",
            "Epoch 4/100\n",
            "3010/3010 [==============================] - 188s 63ms/step - loss: 4.8055 - accuracy: 0.1643\n",
            "Epoch 5/100\n",
            "3010/3010 [==============================] - 188s 62ms/step - loss: 4.5092 - accuracy: 0.1811\n",
            "Epoch 6/100\n",
            "3010/3010 [==============================] - 188s 62ms/step - loss: 4.2287 - accuracy: 0.2006\n",
            "Epoch 7/100\n",
            "3010/3010 [==============================] - 187s 62ms/step - loss: 3.9593 - accuracy: 0.2250\n",
            "Epoch 8/100\n",
            "3010/3010 [==============================] - 187s 62ms/step - loss: 3.7014 - accuracy: 0.2545\n",
            "Epoch 9/100\n",
            "3010/3010 [==============================] - 189s 63ms/step - loss: 3.4588 - accuracy: 0.2877\n",
            "Epoch 10/100\n",
            "3010/3010 [==============================] - 190s 63ms/step - loss: 3.2319 - accuracy: 0.3212\n",
            "Epoch 11/100\n",
            "3010/3010 [==============================] - 189s 63ms/step - loss: 3.0209 - accuracy: 0.3569\n",
            "Epoch 12/100\n",
            "3010/3010 [==============================] - 187s 62ms/step - loss: 2.8269 - accuracy: 0.3910\n",
            "Epoch 13/100\n",
            "3010/3010 [==============================] - 186s 62ms/step - loss: 2.6473 - accuracy: 0.4250\n",
            "Epoch 14/100\n",
            "3010/3010 [==============================] - 188s 62ms/step - loss: 2.4816 - accuracy: 0.4551\n",
            "Epoch 15/100\n",
            "3010/3010 [==============================] - 188s 62ms/step - loss: 2.3311 - accuracy: 0.4853\n",
            "Epoch 16/100\n",
            "3010/3010 [==============================] - 186s 62ms/step - loss: 2.1904 - accuracy: 0.5128\n",
            "Epoch 17/100\n",
            "3010/3010 [==============================] - 188s 63ms/step - loss: 2.0623 - accuracy: 0.5417\n",
            "Epoch 18/100\n",
            "3010/3010 [==============================] - 188s 62ms/step - loss: 1.9452 - accuracy: 0.5663\n",
            "Epoch 19/100\n",
            "3010/3010 [==============================] - 186s 62ms/step - loss: 1.8373 - accuracy: 0.5882\n",
            "Epoch 20/100\n",
            "3010/3010 [==============================] - 187s 62ms/step - loss: 1.7365 - accuracy: 0.6112\n",
            "Epoch 21/100\n",
            "3010/3010 [==============================] - 186s 62ms/step - loss: 1.6456 - accuracy: 0.6294\n",
            "Epoch 22/100\n",
            "3010/3010 [==============================] - 188s 62ms/step - loss: 1.5610 - accuracy: 0.6482\n",
            "Epoch 23/100\n",
            "3010/3010 [==============================] - 189s 63ms/step - loss: 1.4829 - accuracy: 0.6670\n",
            "Epoch 24/100\n",
            "3010/3010 [==============================] - 191s 63ms/step - loss: 1.4136 - accuracy: 0.6803\n",
            "Epoch 25/100\n",
            "3010/3010 [==============================] - 188s 62ms/step - loss: 1.3458 - accuracy: 0.6952\n",
            "Epoch 26/100\n",
            "3010/3010 [==============================] - 188s 62ms/step - loss: 1.2886 - accuracy: 0.7080\n",
            "Epoch 27/100\n",
            "3010/3010 [==============================] - 187s 62ms/step - loss: 1.2327 - accuracy: 0.7208\n",
            "Epoch 28/100\n",
            "3010/3010 [==============================] - 188s 62ms/step - loss: 1.1800 - accuracy: 0.7320\n",
            "Epoch 29/100\n",
            "3010/3010 [==============================] - 187s 62ms/step - loss: 1.1340 - accuracy: 0.7422\n",
            "Epoch 30/100\n",
            "3010/3010 [==============================] - 189s 63ms/step - loss: 1.0910 - accuracy: 0.7521\n",
            "Epoch 31/100\n",
            "3010/3010 [==============================] - 189s 63ms/step - loss: 1.0506 - accuracy: 0.7597\n",
            "Epoch 32/100\n",
            "3010/3010 [==============================] - 188s 62ms/step - loss: 1.0139 - accuracy: 0.7686\n",
            "Epoch 33/100\n",
            "3010/3010 [==============================] - 187s 62ms/step - loss: 0.9784 - accuracy: 0.7759\n",
            "Epoch 34/100\n",
            "3010/3010 [==============================] - 188s 62ms/step - loss: 0.9472 - accuracy: 0.7833\n",
            "Epoch 35/100\n",
            "3010/3010 [==============================] - 187s 62ms/step - loss: 0.9187 - accuracy: 0.7875\n",
            "Epoch 36/100\n",
            "3010/3010 [==============================] - 186s 62ms/step - loss: 0.8932 - accuracy: 0.7937\n",
            "Epoch 37/100\n",
            "3010/3010 [==============================] - 187s 62ms/step - loss: 0.8644 - accuracy: 0.8003\n",
            "Epoch 38/100\n",
            "3010/3010 [==============================] - 188s 62ms/step - loss: 0.8428 - accuracy: 0.8043\n",
            "Epoch 39/100\n",
            "3010/3010 [==============================] - 187s 62ms/step - loss: 0.8162 - accuracy: 0.8099\n",
            "Epoch 40/100\n",
            "3010/3010 [==============================] - 188s 62ms/step - loss: 0.8026 - accuracy: 0.8130\n",
            "Epoch 41/100\n",
            "3010/3010 [==============================] - 189s 63ms/step - loss: 0.7799 - accuracy: 0.8173\n",
            "Epoch 42/100\n",
            "3010/3010 [==============================] - 187s 62ms/step - loss: 0.7633 - accuracy: 0.8221\n",
            "Epoch 43/100\n",
            "3010/3010 [==============================] - 188s 62ms/step - loss: 0.7446 - accuracy: 0.8262\n",
            "Epoch 44/100\n",
            "3010/3010 [==============================] - 188s 62ms/step - loss: 0.7325 - accuracy: 0.8278\n",
            "Epoch 45/100\n",
            "3010/3010 [==============================] - 187s 62ms/step - loss: 0.7187 - accuracy: 0.8307\n",
            "Epoch 46/100\n",
            "3010/3010 [==============================] - 188s 63ms/step - loss: 0.7035 - accuracy: 0.8348\n",
            "Epoch 47/100\n",
            "3010/3010 [==============================] - 188s 62ms/step - loss: 0.6921 - accuracy: 0.8362\n",
            "Epoch 48/100\n",
            "3010/3010 [==============================] - 187s 62ms/step - loss: 0.6833 - accuracy: 0.8374\n",
            "Epoch 49/100\n",
            "3010/3010 [==============================] - 187s 62ms/step - loss: 0.6668 - accuracy: 0.8419\n",
            "Epoch 50/100\n",
            "3010/3010 [==============================] - 187s 62ms/step - loss: 0.6613 - accuracy: 0.8419\n",
            "Epoch 51/100\n",
            "3010/3010 [==============================] - 187s 62ms/step - loss: 0.6492 - accuracy: 0.8446\n",
            "Epoch 52/100\n",
            "3010/3010 [==============================] - 188s 63ms/step - loss: 0.6421 - accuracy: 0.8459\n",
            "Epoch 53/100\n",
            "3010/3010 [==============================] - 188s 62ms/step - loss: 0.6294 - accuracy: 0.8490\n",
            "Epoch 54/100\n",
            "3010/3010 [==============================] - 188s 63ms/step - loss: 0.6269 - accuracy: 0.8490\n",
            "Epoch 55/100\n",
            "3010/3010 [==============================] - 189s 63ms/step - loss: 0.6177 - accuracy: 0.8518\n",
            "Epoch 56/100\n",
            "3010/3010 [==============================] - 189s 63ms/step - loss: 0.6114 - accuracy: 0.8517\n",
            "Epoch 57/100\n",
            "3010/3010 [==============================] - 189s 63ms/step - loss: 0.6038 - accuracy: 0.8533\n",
            "Epoch 58/100\n",
            "3010/3010 [==============================] - 188s 63ms/step - loss: 0.5956 - accuracy: 0.8559\n",
            "Epoch 59/100\n",
            "3010/3010 [==============================] - 189s 63ms/step - loss: 0.5914 - accuracy: 0.8565\n",
            "Epoch 60/100\n",
            "3010/3010 [==============================] - 190s 63ms/step - loss: 0.5884 - accuracy: 0.8564\n",
            "Epoch 61/100\n",
            "3010/3010 [==============================] - 190s 63ms/step - loss: 0.5821 - accuracy: 0.8576\n",
            "Epoch 62/100\n",
            "3010/3010 [==============================] - 190s 63ms/step - loss: 0.5791 - accuracy: 0.8576\n",
            "Epoch 63/100\n",
            "3010/3010 [==============================] - 191s 63ms/step - loss: 0.5727 - accuracy: 0.8587\n",
            "Epoch 64/100\n",
            "3010/3010 [==============================] - 189s 63ms/step - loss: 0.5691 - accuracy: 0.8593\n",
            "Epoch 65/100\n",
            "3010/3010 [==============================] - 189s 63ms/step - loss: 0.5649 - accuracy: 0.8595\n",
            "Epoch 66/100\n",
            "3010/3010 [==============================] - 189s 63ms/step - loss: 0.5603 - accuracy: 0.8616\n",
            "Epoch 67/100\n",
            "3010/3010 [==============================] - 190s 63ms/step - loss: 0.5550 - accuracy: 0.8622\n",
            "Epoch 68/100\n",
            "3010/3010 [==============================] - 189s 63ms/step - loss: 0.5512 - accuracy: 0.8628\n",
            "Epoch 69/100\n",
            "3010/3010 [==============================] - 189s 63ms/step - loss: 0.5532 - accuracy: 0.8616\n",
            "Epoch 70/100\n",
            "3010/3010 [==============================] - 189s 63ms/step - loss: 0.5471 - accuracy: 0.8633\n",
            "Epoch 71/100\n",
            "3010/3010 [==============================] - 189s 63ms/step - loss: 0.5414 - accuracy: 0.8643\n",
            "Epoch 72/100\n",
            "3010/3010 [==============================] - 188s 62ms/step - loss: 0.5439 - accuracy: 0.8631\n",
            "Epoch 73/100\n",
            "3010/3010 [==============================] - 188s 63ms/step - loss: 0.5402 - accuracy: 0.8640\n",
            "Epoch 74/100\n",
            "3010/3010 [==============================] - 189s 63ms/step - loss: 0.5377 - accuracy: 0.8648\n",
            "Epoch 75/100\n",
            "3010/3010 [==============================] - 189s 63ms/step - loss: 0.5319 - accuracy: 0.8662\n",
            "Epoch 76/100\n",
            "3010/3010 [==============================] - 187s 62ms/step - loss: 0.5325 - accuracy: 0.8651\n",
            "Epoch 77/100\n",
            "3010/3010 [==============================] - 189s 63ms/step - loss: 0.5248 - accuracy: 0.8667\n",
            "Epoch 78/100\n",
            "3010/3010 [==============================] - 189s 63ms/step - loss: 0.5325 - accuracy: 0.8643\n",
            "Epoch 79/100\n",
            "3010/3010 [==============================] - 190s 63ms/step - loss: 0.5223 - accuracy: 0.8677\n",
            "Epoch 80/100\n",
            "3010/3010 [==============================] - 189s 63ms/step - loss: 0.5218 - accuracy: 0.8677\n",
            "Epoch 81/100\n",
            "3010/3010 [==============================] - 191s 63ms/step - loss: 0.5221 - accuracy: 0.8675\n",
            "Epoch 82/100\n",
            "3010/3010 [==============================] - 190s 63ms/step - loss: 0.5156 - accuracy: 0.8687\n",
            "Epoch 83/100\n",
            "3010/3010 [==============================] - 190s 63ms/step - loss: 0.5210 - accuracy: 0.8665\n",
            "Epoch 84/100\n",
            "3010/3010 [==============================] - 191s 63ms/step - loss: 0.5189 - accuracy: 0.8672\n",
            "Epoch 85/100\n",
            "3010/3010 [==============================] - 191s 63ms/step - loss: 0.5124 - accuracy: 0.8690\n",
            "Epoch 86/100\n",
            "3010/3010 [==============================] - 193s 64ms/step - loss: 0.5123 - accuracy: 0.8680\n",
            "Epoch 87/100\n",
            "3010/3010 [==============================] - 198s 66ms/step - loss: 0.5128 - accuracy: 0.8683\n",
            "Epoch 88/100\n",
            "3010/3010 [==============================] - 189s 63ms/step - loss: 0.5098 - accuracy: 0.8689\n",
            "Epoch 89/100\n",
            "3010/3010 [==============================] - 189s 63ms/step - loss: 0.5085 - accuracy: 0.8689\n",
            "Epoch 90/100\n",
            "3010/3010 [==============================] - 194s 64ms/step - loss: 0.5113 - accuracy: 0.8680\n",
            "Epoch 91/100\n",
            "3010/3010 [==============================] - 192s 64ms/step - loss: 0.5072 - accuracy: 0.8689\n",
            "Epoch 92/100\n",
            "3010/3010 [==============================] - 189s 63ms/step - loss: 0.5070 - accuracy: 0.8692\n",
            "Epoch 93/100\n",
            "3010/3010 [==============================] - 190s 63ms/step - loss: 0.5056 - accuracy: 0.8692\n",
            "Epoch 94/100\n",
            "3010/3010 [==============================] - 191s 63ms/step - loss: 0.5030 - accuracy: 0.8695\n",
            "Epoch 95/100\n",
            "3010/3010 [==============================] - 189s 63ms/step - loss: 0.5055 - accuracy: 0.8687\n",
            "Epoch 96/100\n",
            "3010/3010 [==============================] - 189s 63ms/step - loss: 0.5054 - accuracy: 0.8680\n",
            "Epoch 97/100\n",
            "3010/3010 [==============================] - 191s 64ms/step - loss: 0.4991 - accuracy: 0.8697\n",
            "Epoch 98/100\n",
            "3010/3010 [==============================] - 189s 63ms/step - loss: 0.5055 - accuracy: 0.8691\n",
            "Epoch 99/100\n",
            "3010/3010 [==============================] - 191s 63ms/step - loss: 0.5107 - accuracy: 0.8664\n",
            "Epoch 100/100\n",
            "3010/3010 [==============================] - 189s 63ms/step - loss: 0.4990 - accuracy: 0.8697\n"
          ]
        },
        {
          "output_type": "execute_result",
          "data": {
            "text/plain": [
              "<keras.callbacks.History at 0x7f5441587d90>"
            ]
          },
          "metadata": {},
          "execution_count": 11
        }
      ]
    },
    {
      "cell_type": "code",
      "source": [
        "import pickle\n",
        "\n",
        "file = \"model.pkl\"\n",
        "\n",
        "fileobj = open(file,'wb')\n",
        "\n",
        "pickle.dump(model, fileobj)\n",
        "\n",
        "fileobj.close()"
      ],
      "metadata": {
        "id": "QN6_TXkKLTJ8"
      },
      "execution_count": null,
      "outputs": []
    },
    {
      "cell_type": "code",
      "source": [],
      "metadata": {
        "id": "UtqiZ0K7HZyn"
      },
      "execution_count": null,
      "outputs": []
    },
    {
      "cell_type": "code",
      "source": [
        "# After the pickle the model no need to train model again and again\n",
        "\n",
        "# next steps"
      ],
      "metadata": {
        "id": "fy_616ZKHZu-"
      },
      "execution_count": null,
      "outputs": []
    },
    {
      "cell_type": "code",
      "source": [
        "import pickle"
      ],
      "metadata": {
        "id": "A7zGez9WESEx"
      },
      "execution_count": 9,
      "outputs": []
    },
    {
      "cell_type": "code",
      "source": [
        "file = \"model.pkl\"\n",
        "\n",
        "fileobj = open(file,'rb')\n",
        "\n",
        "model = pickle.load(fileobj)"
      ],
      "metadata": {
        "id": "XLyhOpHMLS4Z"
      },
      "execution_count": 16,
      "outputs": []
    },
    {
      "cell_type": "code",
      "source": [
        "seed_text = \"I will leave if they\"\n",
        "next_words = 3\n",
        "\n",
        "for _ in range(next_words):\n",
        "    token_list = tokenizer.texts_to_sequences([seed_text])[0]\n",
        "    token_list = pad_sequences([token_list], maxlen=max_sequence_len-1, padding='pre')\n",
        "    predicted = np.argmax(model.predict(token_list), axis=-1)\n",
        "    output_word = \"\"\n",
        "    for word, index in tokenizer.word_index.items():\n",
        "        if index == predicted:\n",
        "            output_word = word\n",
        "            break\n",
        "    seed_text += \" \" + output_word\n",
        "\n",
        "print(seed_text)"
      ],
      "metadata": {
        "colab": {
          "base_uri": "https://localhost:8080/"
        },
        "id": "1EpJIhO7o3y5",
        "outputId": "c4df4b30-b56c-41ab-87a9-946b9f8cb265"
      },
      "execution_count": 17,
      "outputs": [
        {
          "output_type": "stream",
          "name": "stdout",
          "text": [
            "1/1 [==============================] - 1s 608ms/step\n",
            "1/1 [==============================] - 0s 29ms/step\n",
            "1/1 [==============================] - 0s 25ms/step\n",
            "I will leave if they were right at\n"
          ]
        }
      ]
    },
    {
      "cell_type": "code",
      "source": [
        "seed_text = \"Jack was cleared all exam \"\n",
        "next_words = 3\n",
        "\n",
        "for _ in range(next_words):\n",
        "    token_list = tokenizer.texts_to_sequences([seed_text])[0]\n",
        "    token_list = pad_sequences([token_list], maxlen=max_sequence_len-1, padding='pre')\n",
        "    predicted = np.argmax(model.predict(token_list), axis=-1)\n",
        "    output_word = \"\"\n",
        "    for word, index in tokenizer.word_index.items():\n",
        "        if index == predicted:\n",
        "            output_word = word\n",
        "            break\n",
        "    seed_text += \" \" + output_word\n",
        "\n",
        "print(seed_text)"
      ],
      "metadata": {
        "id": "IdcdIeIUpPRI",
        "colab": {
          "base_uri": "https://localhost:8080/"
        },
        "outputId": "154afbae-da08-4055-8f6f-4022a861deec"
      },
      "execution_count": 20,
      "outputs": [
        {
          "output_type": "stream",
          "name": "stdout",
          "text": [
            "1/1 [==============================] - 0s 28ms/step\n",
            "1/1 [==============================] - 0s 24ms/step\n",
            "1/1 [==============================] - 0s 26ms/step\n",
            "Jack was cleared all exam  as far like\n"
          ]
        }
      ]
    },
    {
      "cell_type": "code",
      "source": [
        "seed_text = input(\"Enter the text : \")"
      ],
      "metadata": {
        "colab": {
          "base_uri": "https://localhost:8080/"
        },
        "id": "JVWSl2O6Ho5p",
        "outputId": "537a00f9-861a-4741-eb4d-bcc72006f242"
      },
      "execution_count": 33,
      "outputs": [
        {
          "name": "stdout",
          "output_type": "stream",
          "text": [
            "Enter the text : A satellite placed in the halo orbit around\n"
          ]
        }
      ]
    },
    {
      "cell_type": "code",
      "source": [
        "next_words = 3\n",
        "\n",
        "for _ in range(next_words):\n",
        "    token_list = tokenizer.texts_to_sequences([seed_text])[0]\n",
        "    token_list = pad_sequences([token_list], maxlen=max_sequence_len-1, padding='pre')\n",
        "    predicted = np.argmax(model.predict(token_list), axis=-1)\n",
        "    output_word = \"\"\n",
        "    for word, index in tokenizer.word_index.items():\n",
        "        if index == predicted:\n",
        "            output_word = word\n",
        "            break\n",
        "    seed_text += \" \" + output_word\n",
        "\n",
        "print(seed_text)"
      ],
      "metadata": {
        "colab": {
          "base_uri": "https://localhost:8080/"
        },
        "id": "w7OANlg-Hm4G",
        "outputId": "24ed875b-0886-4bda-d4b8-f1aae5442347"
      },
      "execution_count": 34,
      "outputs": [
        {
          "output_type": "stream",
          "name": "stdout",
          "text": [
            "1/1 [==============================] - 0s 26ms/step\n",
            "1/1 [==============================] - 0s 27ms/step\n",
            "1/1 [==============================] - 0s 25ms/step\n",
            "A satellite placed in the halo orbit around of the other\n"
          ]
        }
      ]
    },
    {
      "cell_type": "code",
      "source": [],
      "metadata": {
        "id": "6-hpGv-YHx5T"
      },
      "execution_count": null,
      "outputs": []
    }
  ]
}